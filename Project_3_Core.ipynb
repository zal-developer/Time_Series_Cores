{
  "nbformat": 4,
  "nbformat_minor": 0,
  "metadata": {
    "colab": {
      "provenance": [],
      "mount_file_id": "1GKwX7UFVvJIxukEwC_HUd8wMIAior8JS",
      "authorship_tag": "ABX9TyOfZfMRsTSCfPhaKcxaHDdq",
      "include_colab_link": true
    },
    "kernelspec": {
      "name": "python3",
      "display_name": "Python 3"
    },
    "language_info": {
      "name": "python"
    }
  },
  "cells": [
    {
      "cell_type": "markdown",
      "metadata": {
        "id": "view-in-github",
        "colab_type": "text"
      },
      "source": [
        "<a href=\"https://colab.research.google.com/github/zal-developer/Time_Series_Cores/blob/main/Project_3_Core.ipynb\" target=\"_parent\"><img src=\"https://colab.research.google.com/assets/colab-badge.svg\" alt=\"Open In Colab\"/></a>"
      ]
    },
    {
      "cell_type": "code",
      "source": [
        "#importing libraries\n",
        "import glob\n",
        "import pandas as pd\n",
        "import holidays\n",
        "import datetime as dt\n",
        "from holidays import country_holidays"
      ],
      "metadata": {
        "id": "sKg4hWe_H5Kp"
      },
      "execution_count": null,
      "outputs": []
    },
    {
      "cell_type": "code",
      "source": [
        "!pip install zipfile\n",
        "import zipfile"
      ],
      "metadata": {
        "colab": {
          "base_uri": "https://localhost:8080/"
        },
        "id": "UAeLpV7BFRjY",
        "outputId": "d9163307-5214-4893-e783-cbe2da66ae63"
      },
      "execution_count": null,
      "outputs": [
        {
          "output_type": "stream",
          "name": "stdout",
          "text": [
            "\u001b[31mERROR: Could not find a version that satisfies the requirement zipfile (from versions: none)\u001b[0m\u001b[31m\n",
            "\u001b[0m\u001b[31mERROR: No matching distribution found for zipfile\u001b[0m\u001b[31m\n",
            "\u001b[0m"
          ]
        }
      ]
    },
    {
      "cell_type": "code",
      "source": [
        "#loading the data\n",
        "fpath = '/content/drive/MyDrive/CodingDojo/04-DataViz/Week13/Data/Chicago_Crime_2001-2022.zip'\n",
        "\n",
        "data_frames = []\n",
        "\n",
        "with zipfile.ZipFile(fpath, 'r') as zip_ref:\n",
        "    for filename in zip_ref.namelist():\n",
        "        if filename.endswith('.csv'):\n",
        "            df = pd.read_csv(zip_ref.open(filename))\n",
        "            data_frames.append(df)\n",
        "\n",
        "# Combine the DataFrames into a single DataFrame\n",
        "df = pd.concat(data_frames)\n",
        "\n",
        "# Print the DataFrame\n",
        "print(df)"
      ],
      "metadata": {
        "colab": {
          "base_uri": "https://localhost:8080/"
        },
        "id": "wk9uQ_lmJo7D",
        "outputId": "175faef3-8980-46fa-bdee-545bdb5db0a2"
      },
      "execution_count": null,
      "outputs": [
        {
          "output_type": "stream",
          "name": "stdout",
          "text": [
            "              ID                    Date        Primary Type  \\\n",
            "0        1326041  01/01/2001 01:00:00 AM             BATTERY   \n",
            "1        1319931  01/01/2001 01:00:00 PM             BATTERY   \n",
            "2        1324743  01/01/2001 01:00:00 PM            GAMBLING   \n",
            "3        1310717  01/01/2001 01:00:00 AM     CRIMINAL DAMAGE   \n",
            "4        1318099  01/01/2001 01:00:00 AM             BATTERY   \n",
            "...          ...                     ...                 ...   \n",
            "238853  12938029  12/31/2022 12:50:00 PM             ASSAULT   \n",
            "238854  12937822  12/31/2022 12:50:00 PM             ASSAULT   \n",
            "238855  12937583  12/31/2022 12:52:00 AM             BATTERY   \n",
            "238856  12938420  12/31/2022 12:52:00 PM             ASSAULT   \n",
            "238857  12939906  12/31/2022 12:59:00 PM  DECEPTIVE PRACTICE   \n",
            "\n",
            "                                    Description          Location Description  \\\n",
            "0                                        SIMPLE                     RESIDENCE   \n",
            "1                                        SIMPLE                     RESIDENCE   \n",
            "2                           ILLEGAL ILL LOTTERY                        STREET   \n",
            "3                                    TO VEHICLE                        STREET   \n",
            "4                                        SIMPLE       RESIDENCE PORCH/HALLWAY   \n",
            "...                                         ...                           ...   \n",
            "238853                                   SIMPLE                     APARTMENT   \n",
            "238854                     AGGRAVATED - HANDGUN                     APARTMENT   \n",
            "238855                                   SIMPLE                    BARBERSHOP   \n",
            "238856                                   SIMPLE  COMMERCIAL / BUSINESS OFFICE   \n",
            "238857  FINANCIAL IDENTITY THEFT $300 AND UNDER                     RESIDENCE   \n",
            "\n",
            "        Arrest  Domestic  Beat  District  Ward   Latitude  Longitude  \n",
            "0        False     False  1624      16.0   NaN  41.957850 -87.749185  \n",
            "1        False      True   825       8.0   NaN  41.783892 -87.684841  \n",
            "2         True     False   313       3.0   NaN  41.780412 -87.611970  \n",
            "3        False     False  2424      24.0   NaN  42.012391 -87.678032  \n",
            "4        False      True   214       2.0   NaN  41.819538 -87.620020  \n",
            "...        ...       ...   ...       ...   ...        ...        ...  \n",
            "238853   False     False  1014      10.0  24.0  41.855911 -87.719966  \n",
            "238854   False      True   733       7.0   6.0  41.766546 -87.645669  \n",
            "238855   False     False  1135      11.0  28.0  41.868829 -87.686098  \n",
            "238856   False     False  1432      14.0  32.0  41.930693 -87.685657  \n",
            "238857   False     False  1511      15.0  29.0        NaN        NaN  \n",
            "\n",
            "[7713109 rows x 12 columns]\n"
          ]
        }
      ]
    },
    {
      "cell_type": "code",
      "source": [
        "#showing last 5 rows\n",
        "df.tail()"
      ],
      "metadata": {
        "colab": {
          "base_uri": "https://localhost:8080/",
          "height": 206
        },
        "id": "PO2tZw5jGDmt",
        "outputId": "dcb798bc-0b45-42c3-bfa9-7e8f8574ced8"
      },
      "execution_count": null,
      "outputs": [
        {
          "output_type": "execute_result",
          "data": {
            "text/plain": [
              "              ID                    Date        Primary Type  \\\n",
              "238853  12938029  12/31/2022 12:50:00 PM             ASSAULT   \n",
              "238854  12937822  12/31/2022 12:50:00 PM             ASSAULT   \n",
              "238855  12937583  12/31/2022 12:52:00 AM             BATTERY   \n",
              "238856  12938420  12/31/2022 12:52:00 PM             ASSAULT   \n",
              "238857  12939906  12/31/2022 12:59:00 PM  DECEPTIVE PRACTICE   \n",
              "\n",
              "                                    Description          Location Description  \\\n",
              "238853                                   SIMPLE                     APARTMENT   \n",
              "238854                     AGGRAVATED - HANDGUN                     APARTMENT   \n",
              "238855                                   SIMPLE                    BARBERSHOP   \n",
              "238856                                   SIMPLE  COMMERCIAL / BUSINESS OFFICE   \n",
              "238857  FINANCIAL IDENTITY THEFT $300 AND UNDER                     RESIDENCE   \n",
              "\n",
              "        Arrest  Domestic  Beat  District  Ward   Latitude  Longitude  \n",
              "238853   False     False  1014      10.0  24.0  41.855911 -87.719966  \n",
              "238854   False      True   733       7.0   6.0  41.766546 -87.645669  \n",
              "238855   False     False  1135      11.0  28.0  41.868829 -87.686098  \n",
              "238856   False     False  1432      14.0  32.0  41.930693 -87.685657  \n",
              "238857   False     False  1511      15.0  29.0        NaN        NaN  "
            ],
            "text/html": [
              "\n",
              "  <div id=\"df-b967a33c-df33-4f84-b32a-ffbc3d268a0a\" class=\"colab-df-container\">\n",
              "    <div>\n",
              "<style scoped>\n",
              "    .dataframe tbody tr th:only-of-type {\n",
              "        vertical-align: middle;\n",
              "    }\n",
              "\n",
              "    .dataframe tbody tr th {\n",
              "        vertical-align: top;\n",
              "    }\n",
              "\n",
              "    .dataframe thead th {\n",
              "        text-align: right;\n",
              "    }\n",
              "</style>\n",
              "<table border=\"1\" class=\"dataframe\">\n",
              "  <thead>\n",
              "    <tr style=\"text-align: right;\">\n",
              "      <th></th>\n",
              "      <th>ID</th>\n",
              "      <th>Date</th>\n",
              "      <th>Primary Type</th>\n",
              "      <th>Description</th>\n",
              "      <th>Location Description</th>\n",
              "      <th>Arrest</th>\n",
              "      <th>Domestic</th>\n",
              "      <th>Beat</th>\n",
              "      <th>District</th>\n",
              "      <th>Ward</th>\n",
              "      <th>Latitude</th>\n",
              "      <th>Longitude</th>\n",
              "    </tr>\n",
              "  </thead>\n",
              "  <tbody>\n",
              "    <tr>\n",
              "      <th>238853</th>\n",
              "      <td>12938029</td>\n",
              "      <td>12/31/2022 12:50:00 PM</td>\n",
              "      <td>ASSAULT</td>\n",
              "      <td>SIMPLE</td>\n",
              "      <td>APARTMENT</td>\n",
              "      <td>False</td>\n",
              "      <td>False</td>\n",
              "      <td>1014</td>\n",
              "      <td>10.0</td>\n",
              "      <td>24.0</td>\n",
              "      <td>41.855911</td>\n",
              "      <td>-87.719966</td>\n",
              "    </tr>\n",
              "    <tr>\n",
              "      <th>238854</th>\n",
              "      <td>12937822</td>\n",
              "      <td>12/31/2022 12:50:00 PM</td>\n",
              "      <td>ASSAULT</td>\n",
              "      <td>AGGRAVATED - HANDGUN</td>\n",
              "      <td>APARTMENT</td>\n",
              "      <td>False</td>\n",
              "      <td>True</td>\n",
              "      <td>733</td>\n",
              "      <td>7.0</td>\n",
              "      <td>6.0</td>\n",
              "      <td>41.766546</td>\n",
              "      <td>-87.645669</td>\n",
              "    </tr>\n",
              "    <tr>\n",
              "      <th>238855</th>\n",
              "      <td>12937583</td>\n",
              "      <td>12/31/2022 12:52:00 AM</td>\n",
              "      <td>BATTERY</td>\n",
              "      <td>SIMPLE</td>\n",
              "      <td>BARBERSHOP</td>\n",
              "      <td>False</td>\n",
              "      <td>False</td>\n",
              "      <td>1135</td>\n",
              "      <td>11.0</td>\n",
              "      <td>28.0</td>\n",
              "      <td>41.868829</td>\n",
              "      <td>-87.686098</td>\n",
              "    </tr>\n",
              "    <tr>\n",
              "      <th>238856</th>\n",
              "      <td>12938420</td>\n",
              "      <td>12/31/2022 12:52:00 PM</td>\n",
              "      <td>ASSAULT</td>\n",
              "      <td>SIMPLE</td>\n",
              "      <td>COMMERCIAL / BUSINESS OFFICE</td>\n",
              "      <td>False</td>\n",
              "      <td>False</td>\n",
              "      <td>1432</td>\n",
              "      <td>14.0</td>\n",
              "      <td>32.0</td>\n",
              "      <td>41.930693</td>\n",
              "      <td>-87.685657</td>\n",
              "    </tr>\n",
              "    <tr>\n",
              "      <th>238857</th>\n",
              "      <td>12939906</td>\n",
              "      <td>12/31/2022 12:59:00 PM</td>\n",
              "      <td>DECEPTIVE PRACTICE</td>\n",
              "      <td>FINANCIAL IDENTITY THEFT $300 AND UNDER</td>\n",
              "      <td>RESIDENCE</td>\n",
              "      <td>False</td>\n",
              "      <td>False</td>\n",
              "      <td>1511</td>\n",
              "      <td>15.0</td>\n",
              "      <td>29.0</td>\n",
              "      <td>NaN</td>\n",
              "      <td>NaN</td>\n",
              "    </tr>\n",
              "  </tbody>\n",
              "</table>\n",
              "</div>\n",
              "    <div class=\"colab-df-buttons\">\n",
              "\n",
              "  <div class=\"colab-df-container\">\n",
              "    <button class=\"colab-df-convert\" onclick=\"convertToInteractive('df-b967a33c-df33-4f84-b32a-ffbc3d268a0a')\"\n",
              "            title=\"Convert this dataframe to an interactive table.\"\n",
              "            style=\"display:none;\">\n",
              "\n",
              "  <svg xmlns=\"http://www.w3.org/2000/svg\" height=\"24px\" viewBox=\"0 -960 960 960\">\n",
              "    <path d=\"M120-120v-720h720v720H120Zm60-500h600v-160H180v160Zm220 220h160v-160H400v160Zm0 220h160v-160H400v160ZM180-400h160v-160H180v160Zm440 0h160v-160H620v160ZM180-180h160v-160H180v160Zm440 0h160v-160H620v160Z\"/>\n",
              "  </svg>\n",
              "    </button>\n",
              "\n",
              "  <style>\n",
              "    .colab-df-container {\n",
              "      display:flex;\n",
              "      gap: 12px;\n",
              "    }\n",
              "\n",
              "    .colab-df-convert {\n",
              "      background-color: #E8F0FE;\n",
              "      border: none;\n",
              "      border-radius: 50%;\n",
              "      cursor: pointer;\n",
              "      display: none;\n",
              "      fill: #1967D2;\n",
              "      height: 32px;\n",
              "      padding: 0 0 0 0;\n",
              "      width: 32px;\n",
              "    }\n",
              "\n",
              "    .colab-df-convert:hover {\n",
              "      background-color: #E2EBFA;\n",
              "      box-shadow: 0px 1px 2px rgba(60, 64, 67, 0.3), 0px 1px 3px 1px rgba(60, 64, 67, 0.15);\n",
              "      fill: #174EA6;\n",
              "    }\n",
              "\n",
              "    .colab-df-buttons div {\n",
              "      margin-bottom: 4px;\n",
              "    }\n",
              "\n",
              "    [theme=dark] .colab-df-convert {\n",
              "      background-color: #3B4455;\n",
              "      fill: #D2E3FC;\n",
              "    }\n",
              "\n",
              "    [theme=dark] .colab-df-convert:hover {\n",
              "      background-color: #434B5C;\n",
              "      box-shadow: 0px 1px 3px 1px rgba(0, 0, 0, 0.15);\n",
              "      filter: drop-shadow(0px 1px 2px rgba(0, 0, 0, 0.3));\n",
              "      fill: #FFFFFF;\n",
              "    }\n",
              "  </style>\n",
              "\n",
              "    <script>\n",
              "      const buttonEl =\n",
              "        document.querySelector('#df-b967a33c-df33-4f84-b32a-ffbc3d268a0a button.colab-df-convert');\n",
              "      buttonEl.style.display =\n",
              "        google.colab.kernel.accessAllowed ? 'block' : 'none';\n",
              "\n",
              "      async function convertToInteractive(key) {\n",
              "        const element = document.querySelector('#df-b967a33c-df33-4f84-b32a-ffbc3d268a0a');\n",
              "        const dataTable =\n",
              "          await google.colab.kernel.invokeFunction('convertToInteractive',\n",
              "                                                    [key], {});\n",
              "        if (!dataTable) return;\n",
              "\n",
              "        const docLinkHtml = 'Like what you see? Visit the ' +\n",
              "          '<a target=\"_blank\" href=https://colab.research.google.com/notebooks/data_table.ipynb>data table notebook</a>'\n",
              "          + ' to learn more about interactive tables.';\n",
              "        element.innerHTML = '';\n",
              "        dataTable['output_type'] = 'display_data';\n",
              "        await google.colab.output.renderOutput(dataTable, element);\n",
              "        const docLink = document.createElement('div');\n",
              "        docLink.innerHTML = docLinkHtml;\n",
              "        element.appendChild(docLink);\n",
              "      }\n",
              "    </script>\n",
              "  </div>\n",
              "\n",
              "\n",
              "<div id=\"df-1d95d310-7fa4-4957-8472-113df9fa41d9\">\n",
              "  <button class=\"colab-df-quickchart\" onclick=\"quickchart('df-1d95d310-7fa4-4957-8472-113df9fa41d9')\"\n",
              "            title=\"Suggest charts\"\n",
              "            style=\"display:none;\">\n",
              "\n",
              "<svg xmlns=\"http://www.w3.org/2000/svg\" height=\"24px\"viewBox=\"0 0 24 24\"\n",
              "     width=\"24px\">\n",
              "    <g>\n",
              "        <path d=\"M19 3H5c-1.1 0-2 .9-2 2v14c0 1.1.9 2 2 2h14c1.1 0 2-.9 2-2V5c0-1.1-.9-2-2-2zM9 17H7v-7h2v7zm4 0h-2V7h2v10zm4 0h-2v-4h2v4z\"/>\n",
              "    </g>\n",
              "</svg>\n",
              "  </button>\n",
              "\n",
              "<style>\n",
              "  .colab-df-quickchart {\n",
              "      --bg-color: #E8F0FE;\n",
              "      --fill-color: #1967D2;\n",
              "      --hover-bg-color: #E2EBFA;\n",
              "      --hover-fill-color: #174EA6;\n",
              "      --disabled-fill-color: #AAA;\n",
              "      --disabled-bg-color: #DDD;\n",
              "  }\n",
              "\n",
              "  [theme=dark] .colab-df-quickchart {\n",
              "      --bg-color: #3B4455;\n",
              "      --fill-color: #D2E3FC;\n",
              "      --hover-bg-color: #434B5C;\n",
              "      --hover-fill-color: #FFFFFF;\n",
              "      --disabled-bg-color: #3B4455;\n",
              "      --disabled-fill-color: #666;\n",
              "  }\n",
              "\n",
              "  .colab-df-quickchart {\n",
              "    background-color: var(--bg-color);\n",
              "    border: none;\n",
              "    border-radius: 50%;\n",
              "    cursor: pointer;\n",
              "    display: none;\n",
              "    fill: var(--fill-color);\n",
              "    height: 32px;\n",
              "    padding: 0;\n",
              "    width: 32px;\n",
              "  }\n",
              "\n",
              "  .colab-df-quickchart:hover {\n",
              "    background-color: var(--hover-bg-color);\n",
              "    box-shadow: 0 1px 2px rgba(60, 64, 67, 0.3), 0 1px 3px 1px rgba(60, 64, 67, 0.15);\n",
              "    fill: var(--button-hover-fill-color);\n",
              "  }\n",
              "\n",
              "  .colab-df-quickchart-complete:disabled,\n",
              "  .colab-df-quickchart-complete:disabled:hover {\n",
              "    background-color: var(--disabled-bg-color);\n",
              "    fill: var(--disabled-fill-color);\n",
              "    box-shadow: none;\n",
              "  }\n",
              "\n",
              "  .colab-df-spinner {\n",
              "    border: 2px solid var(--fill-color);\n",
              "    border-color: transparent;\n",
              "    border-bottom-color: var(--fill-color);\n",
              "    animation:\n",
              "      spin 1s steps(1) infinite;\n",
              "  }\n",
              "\n",
              "  @keyframes spin {\n",
              "    0% {\n",
              "      border-color: transparent;\n",
              "      border-bottom-color: var(--fill-color);\n",
              "      border-left-color: var(--fill-color);\n",
              "    }\n",
              "    20% {\n",
              "      border-color: transparent;\n",
              "      border-left-color: var(--fill-color);\n",
              "      border-top-color: var(--fill-color);\n",
              "    }\n",
              "    30% {\n",
              "      border-color: transparent;\n",
              "      border-left-color: var(--fill-color);\n",
              "      border-top-color: var(--fill-color);\n",
              "      border-right-color: var(--fill-color);\n",
              "    }\n",
              "    40% {\n",
              "      border-color: transparent;\n",
              "      border-right-color: var(--fill-color);\n",
              "      border-top-color: var(--fill-color);\n",
              "    }\n",
              "    60% {\n",
              "      border-color: transparent;\n",
              "      border-right-color: var(--fill-color);\n",
              "    }\n",
              "    80% {\n",
              "      border-color: transparent;\n",
              "      border-right-color: var(--fill-color);\n",
              "      border-bottom-color: var(--fill-color);\n",
              "    }\n",
              "    90% {\n",
              "      border-color: transparent;\n",
              "      border-bottom-color: var(--fill-color);\n",
              "    }\n",
              "  }\n",
              "</style>\n",
              "\n",
              "  <script>\n",
              "    async function quickchart(key) {\n",
              "      const quickchartButtonEl =\n",
              "        document.querySelector('#' + key + ' button');\n",
              "      quickchartButtonEl.disabled = true;  // To prevent multiple clicks.\n",
              "      quickchartButtonEl.classList.add('colab-df-spinner');\n",
              "      try {\n",
              "        const charts = await google.colab.kernel.invokeFunction(\n",
              "            'suggestCharts', [key], {});\n",
              "      } catch (error) {\n",
              "        console.error('Error during call to suggestCharts:', error);\n",
              "      }\n",
              "      quickchartButtonEl.classList.remove('colab-df-spinner');\n",
              "      quickchartButtonEl.classList.add('colab-df-quickchart-complete');\n",
              "    }\n",
              "    (() => {\n",
              "      let quickchartButtonEl =\n",
              "        document.querySelector('#df-1d95d310-7fa4-4957-8472-113df9fa41d9 button');\n",
              "      quickchartButtonEl.style.display =\n",
              "        google.colab.kernel.accessAllowed ? 'block' : 'none';\n",
              "    })();\n",
              "  </script>\n",
              "</div>\n",
              "\n",
              "    </div>\n",
              "  </div>\n"
            ],
            "application/vnd.google.colaboratory.intrinsic+json": {
              "type": "dataframe",
              "repr_error": "0"
            }
          },
          "metadata": {},
          "execution_count": 34
        }
      ]
    },
    {
      "cell_type": "code",
      "source": [
        "#showing summary info of df\n",
        "df.info()"
      ],
      "metadata": {
        "colab": {
          "base_uri": "https://localhost:8080/"
        },
        "id": "HQ0e1MC-Gcc3",
        "outputId": "5e16c040-01f1-44ec-bffb-099779472476"
      },
      "execution_count": null,
      "outputs": [
        {
          "output_type": "stream",
          "name": "stdout",
          "text": [
            "<class 'pandas.core.frame.DataFrame'>\n",
            "Index: 7713109 entries, 0 to 238857\n",
            "Data columns (total 12 columns):\n",
            " #   Column                Dtype  \n",
            "---  ------                -----  \n",
            " 0   ID                    int64  \n",
            " 1   Date                  object \n",
            " 2   Primary Type          object \n",
            " 3   Description           object \n",
            " 4   Location Description  object \n",
            " 5   Arrest                bool   \n",
            " 6   Domestic              bool   \n",
            " 7   Beat                  int64  \n",
            " 8   District              float64\n",
            " 9   Ward                  float64\n",
            " 10  Latitude              float64\n",
            " 11  Longitude             float64\n",
            "dtypes: bool(2), float64(4), int64(2), object(4)\n",
            "memory usage: 662.0+ MB\n"
          ]
        }
      ]
    },
    {
      "cell_type": "code",
      "source": [
        "#change date to datetime\n",
        "df['Date'] = pd.to_datetime(df['Date'])\n",
        "df.info()\n",
        "df.head(3)"
      ],
      "metadata": {
        "colab": {
          "base_uri": "https://localhost:8080/",
          "height": 473
        },
        "id": "Y6xxeowp3xKf",
        "outputId": "7b1af541-8a6a-46d5-fc6f-8766a32da768"
      },
      "execution_count": null,
      "outputs": [
        {
          "output_type": "stream",
          "name": "stdout",
          "text": [
            "<class 'pandas.core.frame.DataFrame'>\n",
            "Index: 7713109 entries, 0 to 238857\n",
            "Data columns (total 12 columns):\n",
            " #   Column                Dtype         \n",
            "---  ------                -----         \n",
            " 0   ID                    int64         \n",
            " 1   Date                  datetime64[ns]\n",
            " 2   Primary Type          object        \n",
            " 3   Description           object        \n",
            " 4   Location Description  object        \n",
            " 5   Arrest                bool          \n",
            " 6   Domestic              bool          \n",
            " 7   Beat                  int64         \n",
            " 8   District              float64       \n",
            " 9   Ward                  float64       \n",
            " 10  Latitude              float64       \n",
            " 11  Longitude             float64       \n",
            "dtypes: bool(2), datetime64[ns](1), float64(4), int64(2), object(3)\n",
            "memory usage: 662.0+ MB\n"
          ]
        },
        {
          "output_type": "execute_result",
          "data": {
            "text/plain": [
              "        ID                Date Primary Type          Description  \\\n",
              "0  1326041 2001-01-01 01:00:00      BATTERY               SIMPLE   \n",
              "1  1319931 2001-01-01 13:00:00      BATTERY               SIMPLE   \n",
              "2  1324743 2001-01-01 13:00:00     GAMBLING  ILLEGAL ILL LOTTERY   \n",
              "\n",
              "  Location Description  Arrest  Domestic  Beat  District  Ward   Latitude  \\\n",
              "0            RESIDENCE   False     False  1624      16.0   NaN  41.957850   \n",
              "1            RESIDENCE   False      True   825       8.0   NaN  41.783892   \n",
              "2               STREET    True     False   313       3.0   NaN  41.780412   \n",
              "\n",
              "   Longitude  \n",
              "0 -87.749185  \n",
              "1 -87.684841  \n",
              "2 -87.611970  "
            ],
            "text/html": [
              "\n",
              "  <div id=\"df-1ae03031-efab-42eb-91ee-2a5d1e283db2\" class=\"colab-df-container\">\n",
              "    <div>\n",
              "<style scoped>\n",
              "    .dataframe tbody tr th:only-of-type {\n",
              "        vertical-align: middle;\n",
              "    }\n",
              "\n",
              "    .dataframe tbody tr th {\n",
              "        vertical-align: top;\n",
              "    }\n",
              "\n",
              "    .dataframe thead th {\n",
              "        text-align: right;\n",
              "    }\n",
              "</style>\n",
              "<table border=\"1\" class=\"dataframe\">\n",
              "  <thead>\n",
              "    <tr style=\"text-align: right;\">\n",
              "      <th></th>\n",
              "      <th>ID</th>\n",
              "      <th>Date</th>\n",
              "      <th>Primary Type</th>\n",
              "      <th>Description</th>\n",
              "      <th>Location Description</th>\n",
              "      <th>Arrest</th>\n",
              "      <th>Domestic</th>\n",
              "      <th>Beat</th>\n",
              "      <th>District</th>\n",
              "      <th>Ward</th>\n",
              "      <th>Latitude</th>\n",
              "      <th>Longitude</th>\n",
              "    </tr>\n",
              "  </thead>\n",
              "  <tbody>\n",
              "    <tr>\n",
              "      <th>0</th>\n",
              "      <td>1326041</td>\n",
              "      <td>2001-01-01 01:00:00</td>\n",
              "      <td>BATTERY</td>\n",
              "      <td>SIMPLE</td>\n",
              "      <td>RESIDENCE</td>\n",
              "      <td>False</td>\n",
              "      <td>False</td>\n",
              "      <td>1624</td>\n",
              "      <td>16.0</td>\n",
              "      <td>NaN</td>\n",
              "      <td>41.957850</td>\n",
              "      <td>-87.749185</td>\n",
              "    </tr>\n",
              "    <tr>\n",
              "      <th>1</th>\n",
              "      <td>1319931</td>\n",
              "      <td>2001-01-01 13:00:00</td>\n",
              "      <td>BATTERY</td>\n",
              "      <td>SIMPLE</td>\n",
              "      <td>RESIDENCE</td>\n",
              "      <td>False</td>\n",
              "      <td>True</td>\n",
              "      <td>825</td>\n",
              "      <td>8.0</td>\n",
              "      <td>NaN</td>\n",
              "      <td>41.783892</td>\n",
              "      <td>-87.684841</td>\n",
              "    </tr>\n",
              "    <tr>\n",
              "      <th>2</th>\n",
              "      <td>1324743</td>\n",
              "      <td>2001-01-01 13:00:00</td>\n",
              "      <td>GAMBLING</td>\n",
              "      <td>ILLEGAL ILL LOTTERY</td>\n",
              "      <td>STREET</td>\n",
              "      <td>True</td>\n",
              "      <td>False</td>\n",
              "      <td>313</td>\n",
              "      <td>3.0</td>\n",
              "      <td>NaN</td>\n",
              "      <td>41.780412</td>\n",
              "      <td>-87.611970</td>\n",
              "    </tr>\n",
              "  </tbody>\n",
              "</table>\n",
              "</div>\n",
              "    <div class=\"colab-df-buttons\">\n",
              "\n",
              "  <div class=\"colab-df-container\">\n",
              "    <button class=\"colab-df-convert\" onclick=\"convertToInteractive('df-1ae03031-efab-42eb-91ee-2a5d1e283db2')\"\n",
              "            title=\"Convert this dataframe to an interactive table.\"\n",
              "            style=\"display:none;\">\n",
              "\n",
              "  <svg xmlns=\"http://www.w3.org/2000/svg\" height=\"24px\" viewBox=\"0 -960 960 960\">\n",
              "    <path d=\"M120-120v-720h720v720H120Zm60-500h600v-160H180v160Zm220 220h160v-160H400v160Zm0 220h160v-160H400v160ZM180-400h160v-160H180v160Zm440 0h160v-160H620v160ZM180-180h160v-160H180v160Zm440 0h160v-160H620v160Z\"/>\n",
              "  </svg>\n",
              "    </button>\n",
              "\n",
              "  <style>\n",
              "    .colab-df-container {\n",
              "      display:flex;\n",
              "      gap: 12px;\n",
              "    }\n",
              "\n",
              "    .colab-df-convert {\n",
              "      background-color: #E8F0FE;\n",
              "      border: none;\n",
              "      border-radius: 50%;\n",
              "      cursor: pointer;\n",
              "      display: none;\n",
              "      fill: #1967D2;\n",
              "      height: 32px;\n",
              "      padding: 0 0 0 0;\n",
              "      width: 32px;\n",
              "    }\n",
              "\n",
              "    .colab-df-convert:hover {\n",
              "      background-color: #E2EBFA;\n",
              "      box-shadow: 0px 1px 2px rgba(60, 64, 67, 0.3), 0px 1px 3px 1px rgba(60, 64, 67, 0.15);\n",
              "      fill: #174EA6;\n",
              "    }\n",
              "\n",
              "    .colab-df-buttons div {\n",
              "      margin-bottom: 4px;\n",
              "    }\n",
              "\n",
              "    [theme=dark] .colab-df-convert {\n",
              "      background-color: #3B4455;\n",
              "      fill: #D2E3FC;\n",
              "    }\n",
              "\n",
              "    [theme=dark] .colab-df-convert:hover {\n",
              "      background-color: #434B5C;\n",
              "      box-shadow: 0px 1px 3px 1px rgba(0, 0, 0, 0.15);\n",
              "      filter: drop-shadow(0px 1px 2px rgba(0, 0, 0, 0.3));\n",
              "      fill: #FFFFFF;\n",
              "    }\n",
              "  </style>\n",
              "\n",
              "    <script>\n",
              "      const buttonEl =\n",
              "        document.querySelector('#df-1ae03031-efab-42eb-91ee-2a5d1e283db2 button.colab-df-convert');\n",
              "      buttonEl.style.display =\n",
              "        google.colab.kernel.accessAllowed ? 'block' : 'none';\n",
              "\n",
              "      async function convertToInteractive(key) {\n",
              "        const element = document.querySelector('#df-1ae03031-efab-42eb-91ee-2a5d1e283db2');\n",
              "        const dataTable =\n",
              "          await google.colab.kernel.invokeFunction('convertToInteractive',\n",
              "                                                    [key], {});\n",
              "        if (!dataTable) return;\n",
              "\n",
              "        const docLinkHtml = 'Like what you see? Visit the ' +\n",
              "          '<a target=\"_blank\" href=https://colab.research.google.com/notebooks/data_table.ipynb>data table notebook</a>'\n",
              "          + ' to learn more about interactive tables.';\n",
              "        element.innerHTML = '';\n",
              "        dataTable['output_type'] = 'display_data';\n",
              "        await google.colab.output.renderOutput(dataTable, element);\n",
              "        const docLink = document.createElement('div');\n",
              "        docLink.innerHTML = docLinkHtml;\n",
              "        element.appendChild(docLink);\n",
              "      }\n",
              "    </script>\n",
              "  </div>\n",
              "\n",
              "\n",
              "<div id=\"df-85747e5e-b8e3-4c2b-9dd7-b41099521e57\">\n",
              "  <button class=\"colab-df-quickchart\" onclick=\"quickchart('df-85747e5e-b8e3-4c2b-9dd7-b41099521e57')\"\n",
              "            title=\"Suggest charts\"\n",
              "            style=\"display:none;\">\n",
              "\n",
              "<svg xmlns=\"http://www.w3.org/2000/svg\" height=\"24px\"viewBox=\"0 0 24 24\"\n",
              "     width=\"24px\">\n",
              "    <g>\n",
              "        <path d=\"M19 3H5c-1.1 0-2 .9-2 2v14c0 1.1.9 2 2 2h14c1.1 0 2-.9 2-2V5c0-1.1-.9-2-2-2zM9 17H7v-7h2v7zm4 0h-2V7h2v10zm4 0h-2v-4h2v4z\"/>\n",
              "    </g>\n",
              "</svg>\n",
              "  </button>\n",
              "\n",
              "<style>\n",
              "  .colab-df-quickchart {\n",
              "      --bg-color: #E8F0FE;\n",
              "      --fill-color: #1967D2;\n",
              "      --hover-bg-color: #E2EBFA;\n",
              "      --hover-fill-color: #174EA6;\n",
              "      --disabled-fill-color: #AAA;\n",
              "      --disabled-bg-color: #DDD;\n",
              "  }\n",
              "\n",
              "  [theme=dark] .colab-df-quickchart {\n",
              "      --bg-color: #3B4455;\n",
              "      --fill-color: #D2E3FC;\n",
              "      --hover-bg-color: #434B5C;\n",
              "      --hover-fill-color: #FFFFFF;\n",
              "      --disabled-bg-color: #3B4455;\n",
              "      --disabled-fill-color: #666;\n",
              "  }\n",
              "\n",
              "  .colab-df-quickchart {\n",
              "    background-color: var(--bg-color);\n",
              "    border: none;\n",
              "    border-radius: 50%;\n",
              "    cursor: pointer;\n",
              "    display: none;\n",
              "    fill: var(--fill-color);\n",
              "    height: 32px;\n",
              "    padding: 0;\n",
              "    width: 32px;\n",
              "  }\n",
              "\n",
              "  .colab-df-quickchart:hover {\n",
              "    background-color: var(--hover-bg-color);\n",
              "    box-shadow: 0 1px 2px rgba(60, 64, 67, 0.3), 0 1px 3px 1px rgba(60, 64, 67, 0.15);\n",
              "    fill: var(--button-hover-fill-color);\n",
              "  }\n",
              "\n",
              "  .colab-df-quickchart-complete:disabled,\n",
              "  .colab-df-quickchart-complete:disabled:hover {\n",
              "    background-color: var(--disabled-bg-color);\n",
              "    fill: var(--disabled-fill-color);\n",
              "    box-shadow: none;\n",
              "  }\n",
              "\n",
              "  .colab-df-spinner {\n",
              "    border: 2px solid var(--fill-color);\n",
              "    border-color: transparent;\n",
              "    border-bottom-color: var(--fill-color);\n",
              "    animation:\n",
              "      spin 1s steps(1) infinite;\n",
              "  }\n",
              "\n",
              "  @keyframes spin {\n",
              "    0% {\n",
              "      border-color: transparent;\n",
              "      border-bottom-color: var(--fill-color);\n",
              "      border-left-color: var(--fill-color);\n",
              "    }\n",
              "    20% {\n",
              "      border-color: transparent;\n",
              "      border-left-color: var(--fill-color);\n",
              "      border-top-color: var(--fill-color);\n",
              "    }\n",
              "    30% {\n",
              "      border-color: transparent;\n",
              "      border-left-color: var(--fill-color);\n",
              "      border-top-color: var(--fill-color);\n",
              "      border-right-color: var(--fill-color);\n",
              "    }\n",
              "    40% {\n",
              "      border-color: transparent;\n",
              "      border-right-color: var(--fill-color);\n",
              "      border-top-color: var(--fill-color);\n",
              "    }\n",
              "    60% {\n",
              "      border-color: transparent;\n",
              "      border-right-color: var(--fill-color);\n",
              "    }\n",
              "    80% {\n",
              "      border-color: transparent;\n",
              "      border-right-color: var(--fill-color);\n",
              "      border-bottom-color: var(--fill-color);\n",
              "    }\n",
              "    90% {\n",
              "      border-color: transparent;\n",
              "      border-bottom-color: var(--fill-color);\n",
              "    }\n",
              "  }\n",
              "</style>\n",
              "\n",
              "  <script>\n",
              "    async function quickchart(key) {\n",
              "      const quickchartButtonEl =\n",
              "        document.querySelector('#' + key + ' button');\n",
              "      quickchartButtonEl.disabled = true;  // To prevent multiple clicks.\n",
              "      quickchartButtonEl.classList.add('colab-df-spinner');\n",
              "      try {\n",
              "        const charts = await google.colab.kernel.invokeFunction(\n",
              "            'suggestCharts', [key], {});\n",
              "      } catch (error) {\n",
              "        console.error('Error during call to suggestCharts:', error);\n",
              "      }\n",
              "      quickchartButtonEl.classList.remove('colab-df-spinner');\n",
              "      quickchartButtonEl.classList.add('colab-df-quickchart-complete');\n",
              "    }\n",
              "    (() => {\n",
              "      let quickchartButtonEl =\n",
              "        document.querySelector('#df-85747e5e-b8e3-4c2b-9dd7-b41099521e57 button');\n",
              "      quickchartButtonEl.style.display =\n",
              "        google.colab.kernel.accessAllowed ? 'block' : 'none';\n",
              "    })();\n",
              "  </script>\n",
              "</div>\n",
              "\n",
              "    </div>\n",
              "  </div>\n"
            ],
            "application/vnd.google.colaboratory.intrinsic+json": {
              "type": "dataframe",
              "variable_name": "df"
            }
          },
          "metadata": {},
          "execution_count": 36
        }
      ]
    },
    {
      "cell_type": "code",
      "source": [
        "#setting date as the index\n",
        "df = df.set_index('Date')\n",
        "df"
      ],
      "metadata": {
        "colab": {
          "base_uri": "https://localhost:8080/",
          "height": 455
        },
        "id": "mOe9rNO9XTpH",
        "outputId": "0441c25e-704d-47ea-93ae-f265d53e3351"
      },
      "execution_count": null,
      "outputs": [
        {
          "output_type": "execute_result",
          "data": {
            "text/plain": [
              "                           ID        Primary Type  \\\n",
              "Date                                                \n",
              "2001-01-01 01:00:00   1326041             BATTERY   \n",
              "2001-01-01 13:00:00   1319931             BATTERY   \n",
              "2001-01-01 13:00:00   1324743            GAMBLING   \n",
              "2001-01-01 01:00:00   1310717     CRIMINAL DAMAGE   \n",
              "2001-01-01 01:00:00   1318099             BATTERY   \n",
              "...                       ...                 ...   \n",
              "2022-12-31 12:50:00  12938029             ASSAULT   \n",
              "2022-12-31 12:50:00  12937822             ASSAULT   \n",
              "2022-12-31 00:52:00  12937583             BATTERY   \n",
              "2022-12-31 12:52:00  12938420             ASSAULT   \n",
              "2022-12-31 12:59:00  12939906  DECEPTIVE PRACTICE   \n",
              "\n",
              "                                                 Description  \\\n",
              "Date                                                           \n",
              "2001-01-01 01:00:00                                   SIMPLE   \n",
              "2001-01-01 13:00:00                                   SIMPLE   \n",
              "2001-01-01 13:00:00                      ILLEGAL ILL LOTTERY   \n",
              "2001-01-01 01:00:00                               TO VEHICLE   \n",
              "2001-01-01 01:00:00                                   SIMPLE   \n",
              "...                                                      ...   \n",
              "2022-12-31 12:50:00                                   SIMPLE   \n",
              "2022-12-31 12:50:00                     AGGRAVATED - HANDGUN   \n",
              "2022-12-31 00:52:00                                   SIMPLE   \n",
              "2022-12-31 12:52:00                                   SIMPLE   \n",
              "2022-12-31 12:59:00  FINANCIAL IDENTITY THEFT $300 AND UNDER   \n",
              "\n",
              "                             Location Description  Arrest  Domestic  Beat  \\\n",
              "Date                                                                        \n",
              "2001-01-01 01:00:00                     RESIDENCE   False     False  1624   \n",
              "2001-01-01 13:00:00                     RESIDENCE   False      True   825   \n",
              "2001-01-01 13:00:00                        STREET    True     False   313   \n",
              "2001-01-01 01:00:00                        STREET   False     False  2424   \n",
              "2001-01-01 01:00:00       RESIDENCE PORCH/HALLWAY   False      True   214   \n",
              "...                                           ...     ...       ...   ...   \n",
              "2022-12-31 12:50:00                     APARTMENT   False     False  1014   \n",
              "2022-12-31 12:50:00                     APARTMENT   False      True   733   \n",
              "2022-12-31 00:52:00                    BARBERSHOP   False     False  1135   \n",
              "2022-12-31 12:52:00  COMMERCIAL / BUSINESS OFFICE   False     False  1432   \n",
              "2022-12-31 12:59:00                     RESIDENCE   False     False  1511   \n",
              "\n",
              "                     District  Ward   Latitude  Longitude  \n",
              "Date                                                       \n",
              "2001-01-01 01:00:00      16.0   NaN  41.957850 -87.749185  \n",
              "2001-01-01 13:00:00       8.0   NaN  41.783892 -87.684841  \n",
              "2001-01-01 13:00:00       3.0   NaN  41.780412 -87.611970  \n",
              "2001-01-01 01:00:00      24.0   NaN  42.012391 -87.678032  \n",
              "2001-01-01 01:00:00       2.0   NaN  41.819538 -87.620020  \n",
              "...                       ...   ...        ...        ...  \n",
              "2022-12-31 12:50:00      10.0  24.0  41.855911 -87.719966  \n",
              "2022-12-31 12:50:00       7.0   6.0  41.766546 -87.645669  \n",
              "2022-12-31 00:52:00      11.0  28.0  41.868829 -87.686098  \n",
              "2022-12-31 12:52:00      14.0  32.0  41.930693 -87.685657  \n",
              "2022-12-31 12:59:00      15.0  29.0        NaN        NaN  \n",
              "\n",
              "[7713109 rows x 11 columns]"
            ],
            "text/html": [
              "\n",
              "  <div id=\"df-76e60248-f685-469b-8a52-852655af3ed9\" class=\"colab-df-container\">\n",
              "    <div>\n",
              "<style scoped>\n",
              "    .dataframe tbody tr th:only-of-type {\n",
              "        vertical-align: middle;\n",
              "    }\n",
              "\n",
              "    .dataframe tbody tr th {\n",
              "        vertical-align: top;\n",
              "    }\n",
              "\n",
              "    .dataframe thead th {\n",
              "        text-align: right;\n",
              "    }\n",
              "</style>\n",
              "<table border=\"1\" class=\"dataframe\">\n",
              "  <thead>\n",
              "    <tr style=\"text-align: right;\">\n",
              "      <th></th>\n",
              "      <th>ID</th>\n",
              "      <th>Primary Type</th>\n",
              "      <th>Description</th>\n",
              "      <th>Location Description</th>\n",
              "      <th>Arrest</th>\n",
              "      <th>Domestic</th>\n",
              "      <th>Beat</th>\n",
              "      <th>District</th>\n",
              "      <th>Ward</th>\n",
              "      <th>Latitude</th>\n",
              "      <th>Longitude</th>\n",
              "    </tr>\n",
              "    <tr>\n",
              "      <th>Date</th>\n",
              "      <th></th>\n",
              "      <th></th>\n",
              "      <th></th>\n",
              "      <th></th>\n",
              "      <th></th>\n",
              "      <th></th>\n",
              "      <th></th>\n",
              "      <th></th>\n",
              "      <th></th>\n",
              "      <th></th>\n",
              "      <th></th>\n",
              "    </tr>\n",
              "  </thead>\n",
              "  <tbody>\n",
              "    <tr>\n",
              "      <th>2001-01-01 01:00:00</th>\n",
              "      <td>1326041</td>\n",
              "      <td>BATTERY</td>\n",
              "      <td>SIMPLE</td>\n",
              "      <td>RESIDENCE</td>\n",
              "      <td>False</td>\n",
              "      <td>False</td>\n",
              "      <td>1624</td>\n",
              "      <td>16.0</td>\n",
              "      <td>NaN</td>\n",
              "      <td>41.957850</td>\n",
              "      <td>-87.749185</td>\n",
              "    </tr>\n",
              "    <tr>\n",
              "      <th>2001-01-01 13:00:00</th>\n",
              "      <td>1319931</td>\n",
              "      <td>BATTERY</td>\n",
              "      <td>SIMPLE</td>\n",
              "      <td>RESIDENCE</td>\n",
              "      <td>False</td>\n",
              "      <td>True</td>\n",
              "      <td>825</td>\n",
              "      <td>8.0</td>\n",
              "      <td>NaN</td>\n",
              "      <td>41.783892</td>\n",
              "      <td>-87.684841</td>\n",
              "    </tr>\n",
              "    <tr>\n",
              "      <th>2001-01-01 13:00:00</th>\n",
              "      <td>1324743</td>\n",
              "      <td>GAMBLING</td>\n",
              "      <td>ILLEGAL ILL LOTTERY</td>\n",
              "      <td>STREET</td>\n",
              "      <td>True</td>\n",
              "      <td>False</td>\n",
              "      <td>313</td>\n",
              "      <td>3.0</td>\n",
              "      <td>NaN</td>\n",
              "      <td>41.780412</td>\n",
              "      <td>-87.611970</td>\n",
              "    </tr>\n",
              "    <tr>\n",
              "      <th>2001-01-01 01:00:00</th>\n",
              "      <td>1310717</td>\n",
              "      <td>CRIMINAL DAMAGE</td>\n",
              "      <td>TO VEHICLE</td>\n",
              "      <td>STREET</td>\n",
              "      <td>False</td>\n",
              "      <td>False</td>\n",
              "      <td>2424</td>\n",
              "      <td>24.0</td>\n",
              "      <td>NaN</td>\n",
              "      <td>42.012391</td>\n",
              "      <td>-87.678032</td>\n",
              "    </tr>\n",
              "    <tr>\n",
              "      <th>2001-01-01 01:00:00</th>\n",
              "      <td>1318099</td>\n",
              "      <td>BATTERY</td>\n",
              "      <td>SIMPLE</td>\n",
              "      <td>RESIDENCE PORCH/HALLWAY</td>\n",
              "      <td>False</td>\n",
              "      <td>True</td>\n",
              "      <td>214</td>\n",
              "      <td>2.0</td>\n",
              "      <td>NaN</td>\n",
              "      <td>41.819538</td>\n",
              "      <td>-87.620020</td>\n",
              "    </tr>\n",
              "    <tr>\n",
              "      <th>...</th>\n",
              "      <td>...</td>\n",
              "      <td>...</td>\n",
              "      <td>...</td>\n",
              "      <td>...</td>\n",
              "      <td>...</td>\n",
              "      <td>...</td>\n",
              "      <td>...</td>\n",
              "      <td>...</td>\n",
              "      <td>...</td>\n",
              "      <td>...</td>\n",
              "      <td>...</td>\n",
              "    </tr>\n",
              "    <tr>\n",
              "      <th>2022-12-31 12:50:00</th>\n",
              "      <td>12938029</td>\n",
              "      <td>ASSAULT</td>\n",
              "      <td>SIMPLE</td>\n",
              "      <td>APARTMENT</td>\n",
              "      <td>False</td>\n",
              "      <td>False</td>\n",
              "      <td>1014</td>\n",
              "      <td>10.0</td>\n",
              "      <td>24.0</td>\n",
              "      <td>41.855911</td>\n",
              "      <td>-87.719966</td>\n",
              "    </tr>\n",
              "    <tr>\n",
              "      <th>2022-12-31 12:50:00</th>\n",
              "      <td>12937822</td>\n",
              "      <td>ASSAULT</td>\n",
              "      <td>AGGRAVATED - HANDGUN</td>\n",
              "      <td>APARTMENT</td>\n",
              "      <td>False</td>\n",
              "      <td>True</td>\n",
              "      <td>733</td>\n",
              "      <td>7.0</td>\n",
              "      <td>6.0</td>\n",
              "      <td>41.766546</td>\n",
              "      <td>-87.645669</td>\n",
              "    </tr>\n",
              "    <tr>\n",
              "      <th>2022-12-31 00:52:00</th>\n",
              "      <td>12937583</td>\n",
              "      <td>BATTERY</td>\n",
              "      <td>SIMPLE</td>\n",
              "      <td>BARBERSHOP</td>\n",
              "      <td>False</td>\n",
              "      <td>False</td>\n",
              "      <td>1135</td>\n",
              "      <td>11.0</td>\n",
              "      <td>28.0</td>\n",
              "      <td>41.868829</td>\n",
              "      <td>-87.686098</td>\n",
              "    </tr>\n",
              "    <tr>\n",
              "      <th>2022-12-31 12:52:00</th>\n",
              "      <td>12938420</td>\n",
              "      <td>ASSAULT</td>\n",
              "      <td>SIMPLE</td>\n",
              "      <td>COMMERCIAL / BUSINESS OFFICE</td>\n",
              "      <td>False</td>\n",
              "      <td>False</td>\n",
              "      <td>1432</td>\n",
              "      <td>14.0</td>\n",
              "      <td>32.0</td>\n",
              "      <td>41.930693</td>\n",
              "      <td>-87.685657</td>\n",
              "    </tr>\n",
              "    <tr>\n",
              "      <th>2022-12-31 12:59:00</th>\n",
              "      <td>12939906</td>\n",
              "      <td>DECEPTIVE PRACTICE</td>\n",
              "      <td>FINANCIAL IDENTITY THEFT $300 AND UNDER</td>\n",
              "      <td>RESIDENCE</td>\n",
              "      <td>False</td>\n",
              "      <td>False</td>\n",
              "      <td>1511</td>\n",
              "      <td>15.0</td>\n",
              "      <td>29.0</td>\n",
              "      <td>NaN</td>\n",
              "      <td>NaN</td>\n",
              "    </tr>\n",
              "  </tbody>\n",
              "</table>\n",
              "<p>7713109 rows × 11 columns</p>\n",
              "</div>\n",
              "    <div class=\"colab-df-buttons\">\n",
              "\n",
              "  <div class=\"colab-df-container\">\n",
              "    <button class=\"colab-df-convert\" onclick=\"convertToInteractive('df-76e60248-f685-469b-8a52-852655af3ed9')\"\n",
              "            title=\"Convert this dataframe to an interactive table.\"\n",
              "            style=\"display:none;\">\n",
              "\n",
              "  <svg xmlns=\"http://www.w3.org/2000/svg\" height=\"24px\" viewBox=\"0 -960 960 960\">\n",
              "    <path d=\"M120-120v-720h720v720H120Zm60-500h600v-160H180v160Zm220 220h160v-160H400v160Zm0 220h160v-160H400v160ZM180-400h160v-160H180v160Zm440 0h160v-160H620v160ZM180-180h160v-160H180v160Zm440 0h160v-160H620v160Z\"/>\n",
              "  </svg>\n",
              "    </button>\n",
              "\n",
              "  <style>\n",
              "    .colab-df-container {\n",
              "      display:flex;\n",
              "      gap: 12px;\n",
              "    }\n",
              "\n",
              "    .colab-df-convert {\n",
              "      background-color: #E8F0FE;\n",
              "      border: none;\n",
              "      border-radius: 50%;\n",
              "      cursor: pointer;\n",
              "      display: none;\n",
              "      fill: #1967D2;\n",
              "      height: 32px;\n",
              "      padding: 0 0 0 0;\n",
              "      width: 32px;\n",
              "    }\n",
              "\n",
              "    .colab-df-convert:hover {\n",
              "      background-color: #E2EBFA;\n",
              "      box-shadow: 0px 1px 2px rgba(60, 64, 67, 0.3), 0px 1px 3px 1px rgba(60, 64, 67, 0.15);\n",
              "      fill: #174EA6;\n",
              "    }\n",
              "\n",
              "    .colab-df-buttons div {\n",
              "      margin-bottom: 4px;\n",
              "    }\n",
              "\n",
              "    [theme=dark] .colab-df-convert {\n",
              "      background-color: #3B4455;\n",
              "      fill: #D2E3FC;\n",
              "    }\n",
              "\n",
              "    [theme=dark] .colab-df-convert:hover {\n",
              "      background-color: #434B5C;\n",
              "      box-shadow: 0px 1px 3px 1px rgba(0, 0, 0, 0.15);\n",
              "      filter: drop-shadow(0px 1px 2px rgba(0, 0, 0, 0.3));\n",
              "      fill: #FFFFFF;\n",
              "    }\n",
              "  </style>\n",
              "\n",
              "    <script>\n",
              "      const buttonEl =\n",
              "        document.querySelector('#df-76e60248-f685-469b-8a52-852655af3ed9 button.colab-df-convert');\n",
              "      buttonEl.style.display =\n",
              "        google.colab.kernel.accessAllowed ? 'block' : 'none';\n",
              "\n",
              "      async function convertToInteractive(key) {\n",
              "        const element = document.querySelector('#df-76e60248-f685-469b-8a52-852655af3ed9');\n",
              "        const dataTable =\n",
              "          await google.colab.kernel.invokeFunction('convertToInteractive',\n",
              "                                                    [key], {});\n",
              "        if (!dataTable) return;\n",
              "\n",
              "        const docLinkHtml = 'Like what you see? Visit the ' +\n",
              "          '<a target=\"_blank\" href=https://colab.research.google.com/notebooks/data_table.ipynb>data table notebook</a>'\n",
              "          + ' to learn more about interactive tables.';\n",
              "        element.innerHTML = '';\n",
              "        dataTable['output_type'] = 'display_data';\n",
              "        await google.colab.output.renderOutput(dataTable, element);\n",
              "        const docLink = document.createElement('div');\n",
              "        docLink.innerHTML = docLinkHtml;\n",
              "        element.appendChild(docLink);\n",
              "      }\n",
              "    </script>\n",
              "  </div>\n",
              "\n",
              "\n",
              "<div id=\"df-b7420f87-fc95-4002-ac9a-d51738ac09e7\">\n",
              "  <button class=\"colab-df-quickchart\" onclick=\"quickchart('df-b7420f87-fc95-4002-ac9a-d51738ac09e7')\"\n",
              "            title=\"Suggest charts\"\n",
              "            style=\"display:none;\">\n",
              "\n",
              "<svg xmlns=\"http://www.w3.org/2000/svg\" height=\"24px\"viewBox=\"0 0 24 24\"\n",
              "     width=\"24px\">\n",
              "    <g>\n",
              "        <path d=\"M19 3H5c-1.1 0-2 .9-2 2v14c0 1.1.9 2 2 2h14c1.1 0 2-.9 2-2V5c0-1.1-.9-2-2-2zM9 17H7v-7h2v7zm4 0h-2V7h2v10zm4 0h-2v-4h2v4z\"/>\n",
              "    </g>\n",
              "</svg>\n",
              "  </button>\n",
              "\n",
              "<style>\n",
              "  .colab-df-quickchart {\n",
              "      --bg-color: #E8F0FE;\n",
              "      --fill-color: #1967D2;\n",
              "      --hover-bg-color: #E2EBFA;\n",
              "      --hover-fill-color: #174EA6;\n",
              "      --disabled-fill-color: #AAA;\n",
              "      --disabled-bg-color: #DDD;\n",
              "  }\n",
              "\n",
              "  [theme=dark] .colab-df-quickchart {\n",
              "      --bg-color: #3B4455;\n",
              "      --fill-color: #D2E3FC;\n",
              "      --hover-bg-color: #434B5C;\n",
              "      --hover-fill-color: #FFFFFF;\n",
              "      --disabled-bg-color: #3B4455;\n",
              "      --disabled-fill-color: #666;\n",
              "  }\n",
              "\n",
              "  .colab-df-quickchart {\n",
              "    background-color: var(--bg-color);\n",
              "    border: none;\n",
              "    border-radius: 50%;\n",
              "    cursor: pointer;\n",
              "    display: none;\n",
              "    fill: var(--fill-color);\n",
              "    height: 32px;\n",
              "    padding: 0;\n",
              "    width: 32px;\n",
              "  }\n",
              "\n",
              "  .colab-df-quickchart:hover {\n",
              "    background-color: var(--hover-bg-color);\n",
              "    box-shadow: 0 1px 2px rgba(60, 64, 67, 0.3), 0 1px 3px 1px rgba(60, 64, 67, 0.15);\n",
              "    fill: var(--button-hover-fill-color);\n",
              "  }\n",
              "\n",
              "  .colab-df-quickchart-complete:disabled,\n",
              "  .colab-df-quickchart-complete:disabled:hover {\n",
              "    background-color: var(--disabled-bg-color);\n",
              "    fill: var(--disabled-fill-color);\n",
              "    box-shadow: none;\n",
              "  }\n",
              "\n",
              "  .colab-df-spinner {\n",
              "    border: 2px solid var(--fill-color);\n",
              "    border-color: transparent;\n",
              "    border-bottom-color: var(--fill-color);\n",
              "    animation:\n",
              "      spin 1s steps(1) infinite;\n",
              "  }\n",
              "\n",
              "  @keyframes spin {\n",
              "    0% {\n",
              "      border-color: transparent;\n",
              "      border-bottom-color: var(--fill-color);\n",
              "      border-left-color: var(--fill-color);\n",
              "    }\n",
              "    20% {\n",
              "      border-color: transparent;\n",
              "      border-left-color: var(--fill-color);\n",
              "      border-top-color: var(--fill-color);\n",
              "    }\n",
              "    30% {\n",
              "      border-color: transparent;\n",
              "      border-left-color: var(--fill-color);\n",
              "      border-top-color: var(--fill-color);\n",
              "      border-right-color: var(--fill-color);\n",
              "    }\n",
              "    40% {\n",
              "      border-color: transparent;\n",
              "      border-right-color: var(--fill-color);\n",
              "      border-top-color: var(--fill-color);\n",
              "    }\n",
              "    60% {\n",
              "      border-color: transparent;\n",
              "      border-right-color: var(--fill-color);\n",
              "    }\n",
              "    80% {\n",
              "      border-color: transparent;\n",
              "      border-right-color: var(--fill-color);\n",
              "      border-bottom-color: var(--fill-color);\n",
              "    }\n",
              "    90% {\n",
              "      border-color: transparent;\n",
              "      border-bottom-color: var(--fill-color);\n",
              "    }\n",
              "  }\n",
              "</style>\n",
              "\n",
              "  <script>\n",
              "    async function quickchart(key) {\n",
              "      const quickchartButtonEl =\n",
              "        document.querySelector('#' + key + ' button');\n",
              "      quickchartButtonEl.disabled = true;  // To prevent multiple clicks.\n",
              "      quickchartButtonEl.classList.add('colab-df-spinner');\n",
              "      try {\n",
              "        const charts = await google.colab.kernel.invokeFunction(\n",
              "            'suggestCharts', [key], {});\n",
              "      } catch (error) {\n",
              "        console.error('Error during call to suggestCharts:', error);\n",
              "      }\n",
              "      quickchartButtonEl.classList.remove('colab-df-spinner');\n",
              "      quickchartButtonEl.classList.add('colab-df-quickchart-complete');\n",
              "    }\n",
              "    (() => {\n",
              "      let quickchartButtonEl =\n",
              "        document.querySelector('#df-b7420f87-fc95-4002-ac9a-d51738ac09e7 button');\n",
              "      quickchartButtonEl.style.display =\n",
              "        google.colab.kernel.accessAllowed ? 'block' : 'none';\n",
              "    })();\n",
              "  </script>\n",
              "</div>\n",
              "\n",
              "  <div id=\"id_796bdea1-b1ed-43c9-9169-0d46494667cc\">\n",
              "    <style>\n",
              "      .colab-df-generate {\n",
              "        background-color: #E8F0FE;\n",
              "        border: none;\n",
              "        border-radius: 50%;\n",
              "        cursor: pointer;\n",
              "        display: none;\n",
              "        fill: #1967D2;\n",
              "        height: 32px;\n",
              "        padding: 0 0 0 0;\n",
              "        width: 32px;\n",
              "      }\n",
              "\n",
              "      .colab-df-generate:hover {\n",
              "        background-color: #E2EBFA;\n",
              "        box-shadow: 0px 1px 2px rgba(60, 64, 67, 0.3), 0px 1px 3px 1px rgba(60, 64, 67, 0.15);\n",
              "        fill: #174EA6;\n",
              "      }\n",
              "\n",
              "      [theme=dark] .colab-df-generate {\n",
              "        background-color: #3B4455;\n",
              "        fill: #D2E3FC;\n",
              "      }\n",
              "\n",
              "      [theme=dark] .colab-df-generate:hover {\n",
              "        background-color: #434B5C;\n",
              "        box-shadow: 0px 1px 3px 1px rgba(0, 0, 0, 0.15);\n",
              "        filter: drop-shadow(0px 1px 2px rgba(0, 0, 0, 0.3));\n",
              "        fill: #FFFFFF;\n",
              "      }\n",
              "    </style>\n",
              "    <button class=\"colab-df-generate\" onclick=\"generateWithVariable('df')\"\n",
              "            title=\"Generate code using this dataframe.\"\n",
              "            style=\"display:none;\">\n",
              "\n",
              "  <svg xmlns=\"http://www.w3.org/2000/svg\" height=\"24px\"viewBox=\"0 0 24 24\"\n",
              "       width=\"24px\">\n",
              "    <path d=\"M7,19H8.4L18.45,9,17,7.55,7,17.6ZM5,21V16.75L18.45,3.32a2,2,0,0,1,2.83,0l1.4,1.43a1.91,1.91,0,0,1,.58,1.4,1.91,1.91,0,0,1-.58,1.4L9.25,21ZM18.45,9,17,7.55Zm-12,3A5.31,5.31,0,0,0,4.9,8.1,5.31,5.31,0,0,0,1,6.5,5.31,5.31,0,0,0,4.9,4.9,5.31,5.31,0,0,0,6.5,1,5.31,5.31,0,0,0,8.1,4.9,5.31,5.31,0,0,0,12,6.5,5.46,5.46,0,0,0,6.5,12Z\"/>\n",
              "  </svg>\n",
              "    </button>\n",
              "    <script>\n",
              "      (() => {\n",
              "      const buttonEl =\n",
              "        document.querySelector('#id_796bdea1-b1ed-43c9-9169-0d46494667cc button.colab-df-generate');\n",
              "      buttonEl.style.display =\n",
              "        google.colab.kernel.accessAllowed ? 'block' : 'none';\n",
              "\n",
              "      buttonEl.onclick = () => {\n",
              "        google.colab.notebook.generateWithVariable('df');\n",
              "      }\n",
              "      })();\n",
              "    </script>\n",
              "  </div>\n",
              "\n",
              "    </div>\n",
              "  </div>\n"
            ],
            "application/vnd.google.colaboratory.intrinsic+json": {
              "type": "dataframe",
              "variable_name": "df"
            }
          },
          "metadata": {},
          "execution_count": 37
        }
      ]
    },
    {
      "cell_type": "code",
      "source": [
        "#resampling data to daily frequency\n",
        "df_resampled = df.resample('D').size().rename('Crime Count')"
      ],
      "metadata": {
        "id": "wXf8TGKpLC8j"
      },
      "execution_count": null,
      "outputs": []
    },
    {
      "cell_type": "code",
      "source": [
        "df_original = df.copy()\n",
        "df_resampled = df_resampled.copy()"
      ],
      "metadata": {
        "id": "4zIdrI65Vk-g"
      },
      "execution_count": null,
      "outputs": []
    },
    {
      "cell_type": "markdown",
      "source": [
        "# Topic 1)\n",
        "\n",
        "Comparing Police Districts\n",
        "\n",
        "Which district had the most crimes in 2022?\n",
        "\n",
        "Which had the least?\n"
      ],
      "metadata": {
        "id": "jqalkaWrU0ya"
      }
    },
    {
      "cell_type": "code",
      "source": [
        "#highest and lowest crimes districts\n",
        "df_2022 = df.loc[df.index.year == 2022]\n",
        "grouped_df = df_2022.groupby('District')\n",
        "crime_counts = grouped_df.size()\n",
        "most_crimes_district = crime_counts.sort_values(ascending=False).index[0]\n",
        "least_crimes_district = crime_counts.sort_values().index[0]\n",
        "print(f\"District with the most crimes in 2022: {most_crimes_district}\")\n",
        "print(f\"District with the least crimes in 2022: {least_crimes_district}\")"
      ],
      "metadata": {
        "colab": {
          "base_uri": "https://localhost:8080/"
        },
        "id": "wvDh2r9vY1Oi",
        "outputId": "875b453b-c012-450f-86e9-2d8d8067596e"
      },
      "execution_count": null,
      "outputs": [
        {
          "output_type": "stream",
          "name": "stdout",
          "text": [
            "District with the most crimes in 2022: 8.0\n",
            "District with the least crimes in 2022: 31.0\n"
          ]
        }
      ]
    },
    {
      "cell_type": "markdown",
      "source": [
        "Topic 2)\n",
        "\n",
        "Crimes Across the Years:\n",
        "\n",
        "Is the total number of crimes increasing or decreasing across the years?\n",
        "\n",
        "Are there any individual crimes that are doing the opposite (e.g., decreasing when overall crime is increasing or vice-versa)?\n"
      ],
      "metadata": {
        "id": "Jttrl_mi9uSV"
      }
    },
    {
      "cell_type": "code",
      "source": [
        "import matplotlib.pyplot as plt"
      ],
      "metadata": {
        "id": "vHGiMIta-ZP1"
      },
      "execution_count": null,
      "outputs": []
    },
    {
      "cell_type": "code",
      "source": [
        "#creating new year column\n",
        "df['Year'] = df.index.year\n",
        "grouped_by_year = df.groupby('Year').size()\n",
        "# Group the DataFrame by year and count the number of crimes\n",
        "grouped_by_year = df.groupby('Year').size()\n",
        "\n",
        "# Calculate the percentage change in crime count between consecutive years\n",
        "percentage_change = grouped_by_year.pct_change() * 100\n",
        "\n",
        "# Print the first and last values of the percentage change series\n",
        "print(f\"Percentage change in total crimes between {grouped_by_year.index[0]} and {grouped_by_year.index[-1]}: {percentage_change.iloc[0]:.2f}%\")\n",
        "\n",
        "# Plot the total number of crimes by year\n",
        "grouped_by_year.plot(kind='bar')\n",
        "plt.xlabel(\"Year\")\n",
        "plt.ylabel(\"Number of Crimes\")\n",
        "plt.title(\"Total Crimes by Year\")\n",
        "plt.show()"
      ],
      "metadata": {
        "colab": {
          "base_uri": "https://localhost:8080/",
          "height": 510
        },
        "id": "tAw2WWNl9tvt",
        "outputId": "5df01056-1f82-4da9-b27f-0c907acbd360"
      },
      "execution_count": null,
      "outputs": [
        {
          "output_type": "stream",
          "name": "stdout",
          "text": [
            "Percentage change in total crimes between 2001 and 2022: nan%\n"
          ]
        },
        {
          "output_type": "display_data",
          "data": {
            "text/plain": [
              "<Figure size 640x480 with 1 Axes>"
            ],
            "image/png": "[encoded data removed]"
          },
          "metadata": {}
        }
      ]
    },
    {
      "cell_type": "markdown",
      "source": [
        " -  The number of crimes is decreasing over the years.\n",
        "\n",
        "-  "
      ],
      "metadata": {
        "id": "dCf1o6HMB-Tt"
      }
    },
    {
      "cell_type": "code",
      "source": [
        "# Group the DataFrame by primary type and count the number of crimes\n",
        "grouped_by_primary_type = df.groupby('Primary Type').size()\n",
        "\n",
        "# Sort the results in descending order\n",
        "grouped_by_primary_type = grouped_by_primary_type.sort_values(ascending=False)\n",
        "\n",
        "# Plot the bar chart\n",
        "grouped_by_primary_type.plot(kind='bar')\n",
        "plt.xlabel(\"Primary Type\")\n",
        "plt.ylabel(\"Number of Crimes\")\n",
        "plt.title(\"Total Crimes by Primary Type\")\n",
        "plt.show()"
      ],
      "metadata": {
        "colab": {
          "base_uri": "https://localhost:8080/",
          "height": 736
        },
        "id": "NqSvmh8vEOWr",
        "outputId": "5d731ce1-4d95-4598-8a94-fbd66db98cad"
      },
      "execution_count": null,
      "outputs": [
        {
          "output_type": "display_data",
          "data": {
            "text/plain": [
              "<Figure size 640x480 with 1 Axes>"
            ],
            "image/png": "[encoded data removed]"
          },
          "metadata": {}
        }
      ]
    },
    {
      "cell_type": "code",
      "source": [
        "# Group the DataFrame by year and crime type, and count the number of crimes\n",
        "grouped_by_year_and_crime = df.groupby(['Year', 'Primary Type']).size().unstack()\n",
        "\n",
        "# Calculate the percentage change in crime count between consecutive years for each crime type\n",
        "percentage_change_by_crime = grouped_by_year_and_crime.pct_change() * 100\n",
        "\n",
        "# Identify crime types with the greatest increase and decrease in the most recent year\n",
        "latest_year = grouped_by_year_and_crime.index[-1]\n",
        "most_increased_crime = percentage_change_by_crime.loc[latest_year].sort_values(ascending=False).index[0]\n",
        "most_decreased_crime = percentage_change_by_crime.loc[latest_year].sort_values().index[0]\n",
        "\n",
        "# Print the results\n",
        "print(f\"Crime type with the greatest increase in {latest_year}: {most_increased_crime}\")\n",
        "print(f\"Crime type with the greatest decrease in {latest_year}: {most_decreased_crime}\")"
      ],
      "metadata": {
        "colab": {
          "base_uri": "https://localhost:8080/"
        },
        "id": "2O0lrWMFE1iu",
        "outputId": "b4698882-8510-4a38-9f5c-93a2d39d3dbf"
      },
      "execution_count": null,
      "outputs": [
        {
          "output_type": "stream",
          "name": "stdout",
          "text": [
            "Crime type with the greatest increase in 2022: OTHER NARCOTIC VIOLATION\n",
            "Crime type with the greatest decrease in 2022: GAMBLING\n"
          ]
        }
      ]
    },
    {
      "cell_type": "markdown",
      "source": [
        "opic 3)\n",
        "\n",
        "Comparing AM vs. PM Rush Hour:\n",
        "\n",
        "Are crimes more common during AM rush hour or PM rush hour?\n",
        "\n",
        "You can consider any crime that occurred between 7 AM - 10 AM as AM rush hour\n",
        "\n",
        "You can consider any crime that occurred between 4 - 7 PM as PM rush hour."
      ],
      "metadata": {
        "id": "qPm5ZUiXGPZV"
      }
    },
    {
      "cell_type": "code",
      "source": [
        "def get_rush_hour_crimes(df):\n",
        "  \"\"\"\n",
        "  This function filters the DataFrame based on the provided rush hour time ranges and returns the top 5 most common crimes during each rush hour.\n",
        "\n",
        "  Args:\n",
        "      df: The DataFrame containing crime data.\n",
        "\n",
        "  Returns:\n",
        "      A dictionary with two keys: \"AM\" and \"PM\", each containing a list of the top 5 most common crimes during the respective rush hour.\n",
        "  \"\"\"\n",
        "  am_rush = df.loc[(df.index.hour >= 7) & (df.index.hour <= 10)]\n",
        "  pm_rush = df.loc[(df.index.hour >= 16) & (df.index.hour <= 19)]\n",
        "\n",
        "  am_top_5 = am_rush['Primary Type'].value_counts().head(5).index.to_list()\n",
        "  pm_top_5 = pm_rush['Primary Type'].value_counts().head(5).index.to_list()\n",
        "\n",
        "  return {\"AM\": am_top_5, \"PM\": pm_top_5}\n",
        "\n",
        "rush_hour_crimes = get_rush_hour_crimes(df)\n",
        "\n",
        "print(f\"Top 5 crimes during AM rush hour: {rush_hour_crimes['AM']}\")\n",
        "print(f\"Top 5 crimes during PM rush hour: {rush_hour_crimes['PM']}\")"
      ],
      "metadata": {
        "colab": {
          "base_uri": "https://localhost:8080/"
        },
        "id": "-7ytZlYAILIb",
        "outputId": "59fa3a56-93f4-45e9-fb11-57615c2087bd"
      },
      "execution_count": null,
      "outputs": [
        {
          "output_type": "stream",
          "name": "stdout",
          "text": [
            "Top 5 crimes during AM rush hour: ['THEFT', 'BATTERY', 'CRIMINAL DAMAGE', 'BURGLARY', 'OTHER OFFENSE']\n",
            "Top 5 crimes during PM rush hour: ['THEFT', 'BATTERY', 'CRIMINAL DAMAGE', 'NARCOTICS', 'ASSAULT']\n"
          ]
        }
      ]
    },
    {
      "cell_type": "markdown",
      "source": [
        "Are Motor Vehicle Thefts more common during AM rush hour or PM Rush Hour?"
      ],
      "metadata": {
        "id": "lxnfrP66IqJl"
      }
    },
    {
      "cell_type": "code",
      "source": [
        "# Count the occurrences of \"Motor Vehicle Theft\" in AM and PM rush hours\n",
        "am_rush = df.loc[(df.index.hour >= 7) & (df.index.hour <= 10)]\n",
        "pm_rush = df.loc[(df.index.hour >= 16) & (df.index.hour <= 19)]\n",
        "am_mvt_count = am_rush['Primary Type'].value_counts().get(\"Motor Vehicle Theft\", 0)\n",
        "pm_mvt_count = pm_rush['Primary Type'].value_counts().get(\"Motor Vehicle Theft\", 0)\n",
        "\n",
        "# Compare the counts\n",
        "if am_mvt_count > pm_mvt_count:\n",
        "    print(\"Motor Vehicle Theft is more common during AM rush hour.\")\n",
        "elif pm_mvt_count > am_mvt_count:\n",
        "    print(\"Motor Vehicle Theft is more common during PM rush hour.\")\n",
        "else:\n",
        "    print(\"Motor Vehicle Theft occurs equally during AM and PM rush hours.\")"
      ],
      "metadata": {
        "colab": {
          "base_uri": "https://localhost:8080/"
        },
        "id": "u_6EXH41KfXz",
        "outputId": "b352c637-d67a-4553-f84e-f6fc1646126e"
      },
      "execution_count": null,
      "outputs": [
        {
          "output_type": "stream",
          "name": "stdout",
          "text": [
            "Motor Vehicle Theft occurs equally during AM and PM rush hours.\n"
          ]
        }
      ]
    },
    {
      "cell_type": "markdown",
      "source": [
        "Topic 4)\n",
        "\n",
        "Comparing Months:\n",
        "\n",
        "Answer the question: ​What months have the most crime? What months have the least?\n",
        "\n",
        "Answer the question: Are there any individual crimes that do not follow this pattern?\n",
        "If so, which crimes?"
      ],
      "metadata": {
        "id": "6kAeC_SgMVbp"
      }
    },
    {
      "cell_type": "code",
      "source": [
        "#extracting month from the date column\n",
        "df['Month'] = df.index.month\n",
        "monthly_crime_counts = df.groupby('Month')['Primary Type'].count().sort_values(ascending=False)"
      ],
      "metadata": {
        "id": "wCqlaapcPIOt"
      },
      "execution_count": null,
      "outputs": []
    },
    {
      "cell_type": "code",
      "source": [
        "#identify most and least crimes\n",
        "most_crime_months = monthly_crime_counts.index[:3].tolist()\n",
        "least_crime_months = monthly_crime_counts.index[-3:].tolist()\n",
        "#print results\n",
        "print(f\"Months with the most crime: {most_crime_months}\")\n",
        "print(f\"Months with the least crime: {least_crime_months}\")"
      ],
      "metadata": {
        "colab": {
          "base_uri": "https://localhost:8080/"
        },
        "id": "8oUUJG2aM_RD",
        "outputId": "58624506-efa5-4054-e337-58bab568903a"
      },
      "execution_count": null,
      "outputs": [
        {
          "output_type": "stream",
          "name": "stdout",
          "text": [
            "Months with the most crime: [7, 8, 5]\n",
            "Months with the least crime: [1, 12, 2]\n"
          ]
        }
      ]
    },
    {
      "cell_type": "code",
      "source": [
        "# Calculate the difference in crime counts between consecutive months\n",
        "crime_diff = monthly_crime_counts.diff()\n",
        "\n",
        "# Identify crimes with positive difference in specific months\n",
        "non_conforming_crimes = {}\n",
        "for month, diff in crime_diff.items():\n",
        "    for crime, count in df[df['Month'] == month].groupby('Primary Type')['Primary Type'].count().items():\n",
        "        if diff > 0 and crime not in non_conforming_crimes:\n",
        "            non_conforming_crimes[crime] = []\n",
        "        if diff > 0 and month not in non_conforming_crimes[crime]:\n",
        "            non_conforming_crimes[crime].append(month)\n",
        "\n",
        "# Print the non-conforming crimes\n",
        "if non_conforming_crimes:\n",
        "    print(\"\\nCrimes that do not follow the pattern:\")\n",
        "    for crime, months in non_conforming_crimes.items():\n",
        "        print(f\"- {crime}: {months}\")\n",
        "else:\n",
        "    print(\"\\nThere are no crimes that do not follow the pattern.\")"
      ],
      "metadata": {
        "colab": {
          "base_uri": "https://localhost:8080/"
        },
        "id": "mKyM_kW0NHz8",
        "outputId": "4a325f06-5ecf-4e35-e404-ef60cc573b78"
      },
      "execution_count": null,
      "outputs": [
        {
          "output_type": "stream",
          "name": "stdout",
          "text": [
            "\n",
            "There are no crimes that do not follow the pattern.\n"
          ]
        }
      ]
    },
    {
      "cell_type": "markdown",
      "source": [
        "Topic 5)\n",
        "\n",
        " Comparing Holidays:\n",
        "\n",
        "Answer the question: ​What are the top 3 holidays with the largest number of crimes?\n",
        "\n",
        "Answer the question:  For each of the top 3 holidays with the most crime, what are the top 5 most common crimes on that holiday?"
      ],
      "metadata": {
        "id": "TQ4cRNCkSc-M"
      }
    },
    {
      "cell_type": "code",
      "source": [
        "## making a date range that covers full dataset\n",
        "all_days = pd.date_range(start=df.index.min(), end=df.index.max())\n",
        "all_days"
      ],
      "metadata": {
        "colab": {
          "base_uri": "https://localhost:8080/"
        },
        "id": "QS_3UWEUWvzE",
        "outputId": "58e5c540-6e98-4474-e1e0-a91c153681de"
      },
      "execution_count": null,
      "outputs": [
        {
          "output_type": "execute_result",
          "data": {
            "text/plain": [
              "DatetimeIndex(['2001-01-01', '2001-01-02', '2001-01-03', '2001-01-04',\n",
              "               '2001-01-05', '2001-01-06', '2001-01-07', '2001-01-08',\n",
              "               '2001-01-09', '2001-01-10',\n",
              "               ...\n",
              "               '2022-12-22', '2022-12-23', '2022-12-24', '2022-12-25',\n",
              "               '2022-12-26', '2022-12-27', '2022-12-28', '2022-12-29',\n",
              "               '2022-12-30', '2022-12-31'],\n",
              "              dtype='datetime64[ns]', length=8035, freq='D')"
            ]
          },
          "metadata": {},
          "execution_count": 86
        }
      ]
    },
    {
      "cell_type": "code",
      "source": [
        "## Create an instance of the US country holidays.\n",
        "us_holidays = country_holidays('US')\n",
        "us_holidays"
      ],
      "metadata": {
        "colab": {
          "base_uri": "https://localhost:8080/"
        },
        "id": "Y-4bh9zRXCZo",
        "outputId": "7dd05ab8-136c-4bfa-c2b3-4bcdf10eef5a"
      },
      "execution_count": null,
      "outputs": [
        {
          "output_type": "execute_result",
          "data": {
            "text/plain": [
              "holidays.country_holidays('US')"
            ]
          },
          "metadata": {},
          "execution_count": 87
        }
      ]
    },
    {
      "cell_type": "code",
      "source": [
        "## Testing first date\n",
        "print(all_days[0])\n",
        "us_holidays.get(all_days[0])"
      ],
      "metadata": {
        "colab": {
          "base_uri": "https://localhost:8080/",
          "height": 53
        },
        "id": "ZC6fTTHcW80L",
        "outputId": "4c83776d-6f2a-49df-adfd-cb85df7146d3"
      },
      "execution_count": null,
      "outputs": [
        {
          "output_type": "stream",
          "name": "stdout",
          "text": [
            "2001-01-01 00:00:00\n"
          ]
        },
        {
          "output_type": "execute_result",
          "data": {
            "text/plain": [
              "\"New Year's Day\""
            ],
            "application/vnd.google.colaboratory.intrinsic+json": {
              "type": "string"
            }
          },
          "metadata": {},
          "execution_count": 88
        }
      ]
    },
    {
      "cell_type": "code",
      "source": [
        "## Getting us holidays for all dates\n",
        "holiday_list = [us_holidays.get(day) for day in all_days]\n",
        "holiday_list[:3]"
      ],
      "metadata": {
        "colab": {
          "base_uri": "https://localhost:8080/"
        },
        "id": "xl17MATFYvSY",
        "outputId": "66582ee3-8628-44f7-ba8c-620b393ec27f"
      },
      "execution_count": null,
      "outputs": [
        {
          "output_type": "execute_result",
          "data": {
            "text/plain": [
              "[\"New Year's Day\", None, None]"
            ]
          },
          "metadata": {},
          "execution_count": 99
        }
      ]
    },
    {
      "cell_type": "code",
      "source": [
        "## Saving  holiday types as column\n",
        "df[\"US Holiday\"] = [us_holidays.get(day) for day in df.index]"
      ],
      "metadata": {
        "colab": {
          "base_uri": "https://localhost:8080/"
        },
        "id": "pG2fXYo0Y-Mb",
        "outputId": "fda1e49c-f37d-44d0-a42a-ee0e0653584e"
      },
      "execution_count": null,
      "outputs": [
        {
          "output_type": "stream",
          "name": "stderr",
          "text": [
            "<ipython-input-100-6e53ef1d7758>:2: SettingWithCopyWarning: \n",
            "A value is trying to be set on a copy of a slice from a DataFrame.\n",
            "Try using .loc[row_indexer,col_indexer] = value instead\n",
            "\n",
            "See the caveats in the documentation: https://pandas.pydata.org/pandas-docs/stable/user_guide/indexing.html#returning-a-view-versus-a-copy\n",
            "  df[\"US Holiday\"] = [us_holidays.get(day) for day in df.index]\n"
          ]
        }
      ]
    },
    {
      "cell_type": "code",
      "source": [
        "## US Holidays\n",
        "df['US Holiday'].value_counts()"
      ],
      "metadata": {
        "colab": {
          "base_uri": "https://localhost:8080/"
        },
        "id": "L3IAv4BXaX2m",
        "outputId": "868996ba-b411-4599-ec2a-ef217c84c983"
      },
      "execution_count": null,
      "outputs": [
        {
          "output_type": "execute_result",
          "data": {
            "text/plain": [
              "US Holiday\n",
              "New Year's Day                                     32725\n",
              "Independence Day                                   22672\n",
              "Labor Day                                          22164\n",
              "Memorial Day                                       21125\n",
              "Columbus Day                                       20920\n",
              "Veterans Day                                       20418\n",
              "Martin Luther King Jr. Day                         17916\n",
              "Washington's Birthday                              17597\n",
              "Thanksgiving                                       14798\n",
              "Christmas Day                                      12418\n",
              "Independence Day (observed)                         5884\n",
              "Veterans Day (observed)                             5842\n",
              "Christmas Day (observed)                            4929\n",
              "New Year's Day (observed)                           4877\n",
              "Juneteenth National Independence Day                1450\n",
              "Juneteenth National Independence Day (observed)     1403\n",
              "Name: count, dtype: int64"
            ]
          },
          "metadata": {},
          "execution_count": 94
        }
      ]
    },
    {
      "cell_type": "code",
      "source": [
        "import seaborn as sns\n",
        "import numpy as np\n",
        "ax = sns.barplot(data=df, x='US Holiday',y='Primary Type',estimator=np.sum)\n",
        "ax.set_xticklabels(ax.get_xticklabels(),rotation=90, ha='center');"
      ],
      "metadata": {
        "colab": {
          "base_uri": "https://localhost:8080/",
          "height": 828
        },
        "id": "elOC0fgUazrx",
        "outputId": "4189b5aa-1f39-4ac1-c36d-6d3fa02b0dbd"
      },
      "execution_count": null,
      "outputs": [
        {
          "output_type": "stream",
          "name": "stderr",
          "text": [
            "<ipython-input-104-446873c02412>:4: UserWarning: FixedFormatter should only be used together with FixedLocator\n",
            "  ax.set_xticklabels(ax.get_xticklabels(),rotation=90, ha='center');\n"
          ]
        },
        {
          "output_type": "display_data",
          "data": {
            "text/plain": [
              "<Figure size 640x480 with 1 Axes>"
            ],
            "image/png": "[encoded data removed]"
          },
          "metadata": {}
        }
      ]
    },
    {
      "cell_type": "markdown",
      "source": [
        "- Top 3 holidays are Juneteenth National Independence day,Columbus day,Christmas day."
      ],
      "metadata": {
        "id": "60Ov0yTmjbEE"
      }
    }
  ]
}